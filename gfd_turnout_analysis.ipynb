{
 "cells": [
  {
   "cell_type": "markdown",
   "metadata": {},
   "source": [
    "#### Import Packages and Data from CSV File"
   ]
  },
  {
   "cell_type": "code",
   "execution_count": 6,
   "metadata": {},
   "outputs": [
    {
     "name": "stderr",
     "output_type": "stream",
     "text": [
      "C:\\Users\\nlofl\\AppData\\Local\\Temp\\ipykernel_31704\\906257851.py:7: DtypeWarning: Columns (6,7) have mixed types. Specify dtype option on import or set low_memory=False.\n",
      "  turnout = pd.read_csv('Turnout_study_2013-23.csv', index_col=0)\n"
     ]
    }
   ],
   "source": [
    "import pandas as pd\n",
    "import numpy as np\n",
    "import statsmodels.api as sm\n",
    "\n",
    "# read in the turnount data\n",
    "\n",
    "turnout = pd.read_csv('Turnout_study_2013-23.csv', index_col=0)\n",
    "\n",
    "# turnout.info()"
   ]
  },
  {
   "cell_type": "markdown",
   "metadata": {},
   "source": [
    "#### Data Cleaning"
   ]
  },
  {
   "cell_type": "code",
   "execution_count": 14,
   "metadata": {},
   "outputs": [],
   "source": [
    "# only engines and ladders\n",
    "turnout = turnout[turnout['fwx_unit_id'].str.startswith(('E', 'L'))]\n",
    "\n",
    "# only calls where units were not canceled\n",
    "turnout = turnout[turnout['fwx_unit_canceled'] != 1]\n",
    "\n",
    "# only calls after AVL turnout was implemented\n",
    "turnout = turnout[turnout['fwx_unit_year'] >= 2015]\n",
    "\n",
    "# only calls where turnout was greater than 10 seconds (no rolling starts considered)\n",
    "turnout_clean = turnout[turnout['fwx_unit_turnout'] > 10]\n"
   ]
  },
  {
   "cell_type": "markdown",
   "metadata": {},
   "source": [
    "#### Assign Categorical Variables for Station Type, Night Response, and Dispatch Type"
   ]
  },
  {
   "cell_type": "code",
   "execution_count": 15,
   "metadata": {},
   "outputs": [],
   "source": [
    "turnout_clean = turnout_clean[['fwx_unit_dispatch_type','fwx_unit_incident_type','fwx_unit_turnout','fwx_unit_canceled','fwx_unit_hour','station_const_era']]\n",
    "\n",
    "# Create variable for station construction era\n",
    "\n",
    "turnout_clean['1950'] = turnout_clean['station_const_era'].apply(lambda x: 1 if x == 1950 else 0)\n",
    "turnout_clean['1990'] = turnout_clean['station_const_era'].apply(lambda x: 1 if x == 1990 else 0)\n",
    "turnout_clean['2000'] = turnout_clean['station_const_era'].apply(lambda x: 1 if x == 2000 else 0)\n",
    "turnout_clean['2010'] = turnout_clean['station_const_era'].apply(lambda x: 1 if x == 2010 else 0)\n",
    "turnout_clean['2020'] = turnout_clean['station_const_era'].apply(lambda x: 1 if x == 2020 else 0)\n",
    "\n",
    "# Create variable for night response (10pm-6am)\n",
    "\n",
    "turnout_clean['night'] = turnout_clean['fwx_unit_hour'].apply(lambda x: 1 if (x >=22 or x<=6) else 0)\n",
    "\n",
    "# Create variables for dispatch type\n",
    "\n",
    "turnout_clean['CARDIAC'] = turnout_clean['fwx_unit_dispatch_type'].apply(lambda x: 1 if x == 'CARDIA' else 0)\n",
    "turnout_clean['STRUC'] = turnout_clean['fwx_unit_dispatch_type'].apply(lambda x: 1 if x == 'STRUC' else 0)\n",
    "turnout_clean['OVERDOSE'] = turnout_clean['fwx_unit_dispatch_type'].apply(lambda x: 1 if x == 'OVDOSE' else 0)\n",
    "turnout_clean['STAB'] = turnout_clean['fwx_unit_dispatch_type'].apply(lambda x: 1 if x == 'STAB' else 0)\n",
    "turnout_clean['PIN-IN'] = turnout_clean['fwx_unit_dispatch_type'].apply(lambda x: 1 if x == '50PIN' else 0)\n",
    "\n",
    "\n",
    "\n"
   ]
  },
  {
   "cell_type": "markdown",
   "metadata": {},
   "source": [
    "#### Create Multivariate Regression Model"
   ]
  },
  {
   "cell_type": "code",
   "execution_count": 16,
   "metadata": {},
   "outputs": [
    {
     "name": "stdout",
     "output_type": "stream",
     "text": [
      "                            OLS Regression Results                            \n",
      "==============================================================================\n",
      "Dep. Variable:       fwx_unit_turnout   R-squared:                       0.206\n",
      "Model:                            OLS   Adj. R-squared:                  0.206\n",
      "Method:                 Least Squares   F-statistic:                     8375.\n",
      "Date:                Mon, 08 Jan 2024   Prob (F-statistic):               0.00\n",
      "Time:                        18:30:54   Log-Likelihood:            -1.7052e+06\n",
      "No. Observations:              354393   AIC:                         3.410e+06\n",
      "Df Residuals:                  354381   BIC:                         3.411e+06\n",
      "Df Model:                          11                                         \n",
      "Covariance Type:            nonrobust                                         \n",
      "==============================================================================\n",
      "                 coef    std err          t      P>|t|      [0.025      0.975]\n",
      "------------------------------------------------------------------------------\n",
      "const         91.3680      0.276    330.914      0.000      90.827      91.909\n",
      "night         32.8209      0.115    284.825      0.000      32.595      33.047\n",
      "1950         -15.7837      0.287    -54.978      0.000     -16.346     -15.221\n",
      "1990          -6.7076      0.292    -22.977      0.000      -7.280      -6.135\n",
      "2000          -5.8219      0.298    -19.554      0.000      -6.405      -5.238\n",
      "2010          -3.6547      0.344    -10.612      0.000      -4.330      -2.980\n",
      "2020          -9.2757      0.308    -30.074      0.000      -9.880      -8.671\n",
      "CARDIAC       -8.9049      0.447    -19.943      0.000      -9.780      -8.030\n",
      "STRUC          7.2123      0.179     40.230      0.000       6.861       7.564\n",
      "OVERDOSE      -1.1337      0.362     -3.130      0.002      -1.844      -0.424\n",
      "STAB           4.9850      0.751      6.641      0.000       3.514       6.456\n",
      "PIN-IN        -3.7231      0.628     -5.930      0.000      -4.954      -2.493\n",
      "==============================================================================\n",
      "Omnibus:                   328167.991   Durbin-Watson:                   1.977\n",
      "Prob(Omnibus):                  0.000   Jarque-Bera (JB):        387604091.760\n",
      "Skew:                           3.362   Prob(JB):                         0.00\n",
      "Kurtosis:                     164.876   Cond. No.                         17.3\n",
      "==============================================================================\n",
      "\n",
      "Notes:\n",
      "[1] Standard Errors assume that the covariance matrix of the errors is correctly specified.\n"
     ]
    }
   ],
   "source": [
    "independent=turnout_clean[['night','1950','1990','2000','2010','2020','CARDIAC','STRUC','OVERDOSE','STAB','PIN-IN']]\n",
    "dependent=turnout_clean[['fwx_unit_turnout']]\n",
    "\n",
    "independent = sm.add_constant(independent)\n",
    "\n",
    "model = sm.OLS(dependent, independent).fit()\n",
    "print(model.summary())\n",
    "\n"
   ]
  },
  {
   "cell_type": "code",
   "execution_count": null,
   "metadata": {},
   "outputs": [],
   "source": []
  }
 ],
 "metadata": {
  "kernelspec": {
   "display_name": "Python 3",
   "language": "python",
   "name": "python3"
  },
  "language_info": {
   "codemirror_mode": {
    "name": "ipython",
    "version": 3
   },
   "file_extension": ".py",
   "mimetype": "text/x-python",
   "name": "python",
   "nbconvert_exporter": "python",
   "pygments_lexer": "ipython3",
   "version": "3.11.6"
  }
 },
 "nbformat": 4,
 "nbformat_minor": 2
}
